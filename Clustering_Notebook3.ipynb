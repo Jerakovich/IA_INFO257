{
 "cells": [
  {
   "cell_type": "markdown",
   "metadata": {},
   "source": [
    "# Notebook 3:  Agrupamiento Jerárquico y Redes de Kohonen \n",
    "En este notebook vamos a implementar dos algoritmos de clustering: el agrupamiento jeráquico  de clustering y los mapas autoorganizados (SOM) o redes de Kohonen en R. El objetivo es entender como funcionan estos algoritmos y  aprender a utilizarlos con un ejemplo simple. Recuerde instalar previamente el paquete kohonen en R.\n",
    "\n"
   ]
  },
  {
   "cell_type": "markdown",
   "metadata": {},
   "source": [
    "**En lo que sigue, utilizaremos el método hclust, que permite realizar análisis de agrupamiento jerárquico**"
   ]
  },
  {
   "cell_type": "code",
   "execution_count": 7,
   "metadata": {
    "vscode": {
     "languageId": "r"
    }
   },
   "outputs": [
    {
     "name": "stdout",
     "output_type": "stream",
     "text": [
      "hclust                  package:stats                  R Documentation\n",
      "\n",
      "_\bH_\bi_\be_\br_\ba_\br_\bc_\bh_\bi_\bc_\ba_\bl _\bC_\bl_\bu_\bs_\bt_\be_\br_\bi_\bn_\bg\n",
      "\n",
      "_\bD_\be_\bs_\bc_\br_\bi_\bp_\bt_\bi_\bo_\bn:\n",
      "\n",
      "     Hierarchical cluster analysis on a set of dissimilarities and\n",
      "     methods for analyzing it.\n",
      "\n",
      "_\bU_\bs_\ba_\bg_\be:\n",
      "\n",
      "     hclust(d, method = \"complete\", members = NULL)\n",
      "     \n",
      "     ## S3 method for class 'hclust'\n",
      "     plot(x, labels = NULL, hang = 0.1, check = TRUE,\n",
      "          axes = TRUE, frame.plot = FALSE, ann = TRUE,\n",
      "          main = \"Cluster Dendrogram\",\n",
      "          sub = NULL, xlab = NULL, ylab = \"Height\", ...)\n",
      "     \n",
      "_\bA_\br_\bg_\bu_\bm_\be_\bn_\bt_\bs:\n",
      "\n",
      "       d: a dissimilarity structure as produced by 'dist'.\n",
      "\n",
      "  method: the agglomeration method to be used.  This should be (an\n",
      "          unambiguous abbreviation of) one of '\"ward.D\"', '\"ward.D2\"',\n",
      "          '\"single\"', '\"complete\"', '\"average\"' (= UPGMA), '\"mcquitty\"'\n",
      "          (= WPGMA), '\"median\"' (= WPGMC) or '\"centroid\"' (= UPGMC).\n",
      "\n",
      " members: 'NULL' or a vector with length size of 'd'. See the 'Details'\n",
      "          section.\n",
      "\n",
      "       x: an object of the type produced by 'hclust'.\n",
      "\n",
      "    hang: The fraction of the plot height by which labels should hang\n",
      "          below the rest of the plot.  A negative value will cause the\n",
      "          labels to hang down from 0.\n",
      "\n",
      "   check: logical indicating if the 'x' object should be checked for\n",
      "          validity.  This check is not necessary when 'x' is known to\n",
      "          be valid such as when it is the direct result of 'hclust()'.\n",
      "          The default is 'check=TRUE', as invalid inputs may crash R\n",
      "          due to memory violation in the internal C plotting code.\n",
      "\n",
      "  labels: A character vector of labels for the leaves of the tree.  By\n",
      "          default the row names or row numbers of the original data are\n",
      "          used.  If 'labels = FALSE' no labels at all are plotted.\n",
      "\n",
      "axes, frame.plot, ann: logical flags as in 'plot.default'.\n",
      "\n",
      "main, sub, xlab, ylab: character strings for 'title'.  'sub' and 'xlab'\n",
      "          have a non-NULL default when there's a 'tree$call'.\n",
      "\n",
      "     ...: Further graphical arguments.  E.g., 'cex' controls the size\n",
      "          of the labels (if plotted) in the same way as 'text'.\n",
      "\n",
      "_\bD_\be_\bt_\ba_\bi_\bl_\bs:\n",
      "\n",
      "     This function performs a hierarchical cluster analysis using a set\n",
      "     of dissimilarities for the n objects being clustered.  Initially,\n",
      "     each object is assigned to its own cluster and then the algorithm\n",
      "     proceeds iteratively, at each stage joining the two most similar\n",
      "     clusters, continuing until there is just a single cluster.  At\n",
      "     each stage distances between clusters are recomputed by the\n",
      "     Lance-Williams dissimilarity update formula according to the\n",
      "     particular clustering method being used.\n",
      "\n",
      "     A number of different clustering methods are provided.  _Ward's_\n",
      "     minimum variance method aims at finding compact, spherical\n",
      "     clusters.  The _complete linkage_ method finds similar clusters.\n",
      "     The _single linkage_ method (which is closely related to the\n",
      "     minimal spanning tree) adopts a 'friends of friends' clustering\n",
      "     strategy.  The other methods can be regarded as aiming for\n",
      "     clusters with characteristics somewhere between the single and\n",
      "     complete link methods.  Note however, that methods '\"median\"' and\n",
      "     '\"centroid\"' are _not_ leading to a _monotone distance_ measure,\n",
      "     or equivalently the resulting dendrograms can have so called\n",
      "     _inversions_ or _reversals_ which are hard to interpret, but note\n",
      "     the trichotomies in Legendre and Legendre (2012).\n",
      "\n",
      "     Two different algorithms are found in the literature for Ward\n",
      "     clustering.  The one used by option '\"ward.D\"' (equivalent to the\n",
      "     only Ward option '\"ward\"' in R versions <= 3.0.3) _does not_\n",
      "     implement Ward's (1963) clustering criterion, whereas option\n",
      "     '\"ward.D2\"' implements that criterion (Murtagh and Legendre 2014).\n",
      "     With the latter, the dissimilarities are _squared_ before cluster\n",
      "     updating.  Note that 'agnes(*, method=\"ward\")' corresponds to\n",
      "     'hclust(*, \"ward.D2\")'.\n",
      "\n",
      "     If 'members != NULL', then 'd' is taken to be a dissimilarity\n",
      "     matrix between clusters instead of dissimilarities between\n",
      "     singletons and 'members' gives the number of observations per\n",
      "     cluster.  This way the hierarchical cluster algorithm can be\n",
      "     'started in the middle of the dendrogram', e.g., in order to\n",
      "     reconstruct the part of the tree above a cut (see examples).\n",
      "     Dissimilarities between clusters can be efficiently computed\n",
      "     (i.e., without 'hclust' itself) only for a limited number of\n",
      "     distance/linkage combinations, the simplest one being _squared_\n",
      "     Euclidean distance and centroid linkage.  In this case the\n",
      "     dissimilarities between the clusters are the squared Euclidean\n",
      "     distances between cluster means.\n",
      "\n",
      "     In hierarchical cluster displays, a decision is needed at each\n",
      "     merge to specify which subtree should go on the left and which on\n",
      "     the right.  Since, for n observations there are n-1 merges, there\n",
      "     are 2^{(n-1)} possible orderings for the leaves in a cluster tree,\n",
      "     or dendrogram.  The algorithm used in 'hclust' is to order the\n",
      "     subtree so that the tighter cluster is on the left (the last,\n",
      "     i.e., most recent, merge of the left subtree is at a lower value\n",
      "     than the last merge of the right subtree).  Single observations\n",
      "     are the tightest clusters possible, and merges involving two\n",
      "     observations place them in order by their observation sequence\n",
      "     number.\n",
      "\n",
      "_\bV_\ba_\bl_\bu_\be:\n",
      "\n",
      "     An object of class '\"hclust\"' which describes the tree produced by\n",
      "     the clustering process.  The object is a list with components:\n",
      "\n",
      "   merge: an n-1 by 2 matrix.  Row i of 'merge' describes the merging\n",
      "          of clusters at step i of the clustering.  If an element j in\n",
      "          the row is negative, then observation -j was merged at this\n",
      "          stage.  If j is positive then the merge was with the cluster\n",
      "          formed at the (earlier) stage j of the algorithm.  Thus\n",
      "          negative entries in 'merge' indicate agglomerations of\n",
      "          singletons, and positive entries indicate agglomerations of\n",
      "          non-singletons.\n",
      "\n",
      "  height: a set of n-1 real values (non-decreasing for ultrametric\n",
      "          trees).  The clustering _height_: that is, the value of the\n",
      "          criterion associated with the clustering 'method' for the\n",
      "          particular agglomeration.\n",
      "\n",
      "   order: a vector giving the permutation of the original observations\n",
      "          suitable for plotting, in the sense that a cluster plot using\n",
      "          this ordering and matrix 'merge' will not have crossings of\n",
      "          the branches.\n",
      "\n",
      "  labels: labels for each of the objects being clustered.\n",
      "\n",
      "    call: the call which produced the result.\n",
      "\n",
      "  method: the cluster method that has been used.\n",
      "\n",
      "dist.method: the distance that has been used to create 'd' (only\n",
      "          returned if the distance object has a '\"method\"' attribute).\n",
      "\n",
      "     There are 'print', 'plot' and 'identify' (see 'identify.hclust')\n",
      "     methods and the 'rect.hclust()' function for 'hclust' objects.\n",
      "\n",
      "_\bN_\bo_\bt_\be:\n",
      "\n",
      "     Method '\"centroid\"' is typically meant to be used with _squared_\n",
      "     Euclidean distances.\n",
      "\n",
      "_\bA_\bu_\bt_\bh_\bo_\br(_\bs):\n",
      "\n",
      "     The 'hclust' function is based on Fortran code contributed to\n",
      "     STATLIB by F. Murtagh.\n",
      "\n",
      "_\bR_\be_\bf_\be_\br_\be_\bn_\bc_\be_\bs:\n",
      "\n",
      "     Becker, R. A., Chambers, J. M. and Wilks, A. R. (1988).  _The New\n",
      "     S Language_.  Wadsworth & Brooks/Cole. (S version.)\n",
      "\n",
      "     Everitt, B. (1974).  _Cluster Analysis_.  London: Heinemann Educ.\n",
      "     Books.\n",
      "\n",
      "     Hartigan, J.A. (1975).  _Clustering Algorithms_.  New York: Wiley.\n",
      "\n",
      "     Sneath, P. H. A. and R. R. Sokal (1973).  _Numerical Taxonomy_.\n",
      "     San Francisco: Freeman.\n",
      "\n",
      "     Anderberg, M. R. (1973).  _Cluster Analysis for Applications_.\n",
      "     Academic Press: New York.\n",
      "\n",
      "     Gordon, A. D. (1999).  _Classification_. Second Edition.  London:\n",
      "     Chapman and Hall / CRC\n",
      "\n",
      "     Murtagh, F. (1985).  \"Multidimensional Clustering Algorithms\", in\n",
      "     _COMPSTAT Lectures 4_.  Wuerzburg: Physica-Verlag (for algorithmic\n",
      "     details of algorithms used).\n",
      "\n",
      "     McQuitty, L.L. (1966).  Similarity Analysis by Reciprocal Pairs\n",
      "     for Discrete and Continuous Data.  _Educational and Psychological\n",
      "     Measurement_, *26*, 825-831.  doi:10.1177/001316446602600402\n",
      "     <https://doi.org/10.1177/001316446602600402>.\n",
      "\n",
      "     Legendre, P. and L. Legendre (2012).  _Numerical Ecology_, 3rd\n",
      "     English ed. Amsterdam: Elsevier Science BV.\n",
      "\n",
      "     Murtagh, Fionn and Legendre, Pierre (2014).  Ward's hierarchical\n",
      "     agglomerative clustering method: which algorithms implement Ward's\n",
      "     criterion?  _Journal of Classification_, *31*, 274-295.\n",
      "     doi:10.1007/s00357-014-9161-z\n",
      "     <https://doi.org/10.1007/s00357-014-9161-z>.\n",
      "\n",
      "_\bS_\be_\be _\bA_\bl_\bs_\bo:\n",
      "\n",
      "     'identify.hclust', 'rect.hclust', 'cutree', 'dendrogram',\n",
      "     'kmeans'.\n",
      "\n",
      "     For the Lance-Williams formula and methods that apply it\n",
      "     generally, see 'agnes' from package 'cluster'.\n",
      "\n",
      "_\bE_\bx_\ba_\bm_\bp_\bl_\be_\bs:\n",
      "\n",
      "     require(graphics)\n",
      "     \n",
      "     ### Example 1: Violent crime rates by US state\n",
      "     \n",
      "     hc <- hclust(dist(USArrests), \"ave\")\n",
      "     plot(hc)\n",
      "     plot(hc, hang = -1)\n",
      "     \n",
      "     ## Do the same with centroid clustering and *squared* Euclidean distance,\n",
      "     ## cut the tree into ten clusters and reconstruct the upper part of the\n",
      "     ## tree from the cluster centers.\n",
      "     hc <- hclust(dist(USArrests)^2, \"cen\")\n",
      "     memb <- cutree(hc, k = 10)\n",
      "     cent <- NULL\n",
      "     for(k in 1:10){\n",
      "       cent <- rbind(cent, colMeans(USArrests[memb == k, , drop = FALSE]))\n",
      "     }\n",
      "     hc1 <- hclust(dist(cent)^2, method = \"cen\", members = table(memb))\n",
      "     opar <- par(mfrow = c(1, 2))\n",
      "     plot(hc,  labels = FALSE, hang = -1, main = \"Original Tree\")\n",
      "     plot(hc1, labels = FALSE, hang = -1, main = \"Re-start from 10 clusters\")\n",
      "     par(opar)\n",
      "     \n",
      "     ### Example 2: Straight-line distances among 10 US cities\n",
      "     ##  Compare the results of algorithms \"ward.D\" and \"ward.D2\"\n",
      "     \n",
      "     mds2 <- -cmdscale(UScitiesD)\n",
      "     plot(mds2, type=\"n\", axes=FALSE, ann=FALSE)\n",
      "     text(mds2, labels=rownames(mds2), xpd = NA)\n",
      "     \n",
      "     hcity.D  <- hclust(UScitiesD, \"ward.D\") # \"wrong\"\n",
      "     hcity.D2 <- hclust(UScitiesD, \"ward.D2\")\n",
      "     opar <- par(mfrow = c(1, 2))\n",
      "     plot(hcity.D,  hang=-1)\n",
      "     plot(hcity.D2, hang=-1)\n",
      "     par(opar)\n",
      "     "
     ]
    }
   ],
   "source": [
    "help(hclust)"
   ]
  },
  {
   "cell_type": "code",
   "execution_count": 3,
   "metadata": {
    "vscode": {
     "languageId": "r"
    }
   },
   "outputs": [
    {
     "data": {
      "text/html": [
       "<style>\n",
       ".list-inline {list-style: none; margin:0; padding: 0}\n",
       ".list-inline>li {display: inline-block}\n",
       ".list-inline>li:not(:last-child)::after {content: \"\\00b7\"; padding: 0 .5ex}\n",
       "</style>\n",
       "<ol class=list-inline><li>25</li><li>5</li></ol>\n"
      ],
      "text/latex": [
       "\\begin{enumerate*}\n",
       "\\item 25\n",
       "\\item 5\n",
       "\\end{enumerate*}\n"
      ],
      "text/markdown": [
       "1. 25\n",
       "2. 5\n",
       "\n",
       "\n"
      ],
      "text/plain": [
       "[1] 25  5"
      ]
     },
     "metadata": {},
     "output_type": "display_data"
    },
    {
     "data": {
      "text/plain": [
       "     WATER          PROTEIN            FAT           LACTOSE     \n",
       " Min.   :44.90   Min.   : 0.600   Min.   : 1.00   Min.   :0.000  \n",
       " 1st Qu.:71.30   1st Qu.: 3.000   1st Qu.: 3.40   1st Qu.:2.700  \n",
       " Median :82.00   Median : 5.900   Median : 6.30   Median :4.700  \n",
       " Mean   :78.18   Mean   : 6.212   Mean   :10.31   Mean   :4.132  \n",
       " 3rd Qu.:87.70   3rd Qu.: 9.700   3rd Qu.:13.10   3rd Qu.:5.600  \n",
       " Max.   :90.40   Max.   :12.300   Max.   :42.00   Max.   :6.900  \n",
       "      ASH        \n",
       " Min.   :0.1000  \n",
       " 1st Qu.:0.5300  \n",
       " Median :0.8000  \n",
       " Mean   :0.8632  \n",
       " 3rd Qu.:1.1000  \n",
       " Max.   :2.3000  "
      ]
     },
     "metadata": {},
     "output_type": "display_data"
    }
   ],
   "source": [
    "#ruta datos\n",
    "#lee datos del archivo de texto como una matriz. La primera #columna se utiliza como vector de nombres de las filas\n",
    "datos <-read.table(\"..//data//milk1.dat\",row.names=1,dec=\".\",header=TRUE)\n",
    "datos <- as.data.frame(datos)\n",
    "dim(datos)\n",
    "summary(datos)"
   ]
  },
  {
   "cell_type": "code",
   "execution_count": 4,
   "metadata": {
    "vscode": {
     "languageId": "r"
    }
   },
   "outputs": [
    {
     "data": {
      "image/png": "[encoded data removed]",
      "text/plain": [
       "Plot with title \"Cluster Dendrogram\""
      ]
     },
     "metadata": {
      "image/png": {
       "height": 420,
       "width": 420
      }
     },
     "output_type": "display_data"
    },
    {
     "data": {
      "image/png": "[encoded data removed]",
      "text/plain": [
       "plot without title"
      ]
     },
     "metadata": {
      "image/png": {
       "height": 420,
       "width": 420
      }
     },
     "output_type": "display_data"
    }
   ],
   "source": [
    "res3 <- hclust(dist(datos))\n",
    "plot(res3)\n",
    "res <- princomp(datos, cor=TRUE)\n",
    "biplot(res, xlabs= cutree(res3,4))"
   ]
  },
  {
   "cell_type": "markdown",
   "metadata": {},
   "source": [
    "**Ejercicio 1:** \n",
    "\n",
    "a) Explique como funciona el método hclust, describa parámetros de entrada y salida.\n",
    "\n",
    "b) Interprete y comente los resultados obtenidos. \n",
    "\n",
    "c) Utilice otros parámetros en hclust y discuta como varían los resultados. \n"
   ]
  },
  {
   "cell_type": "markdown",
   "metadata": {},
   "source": [
    "## A: \n",
    "\n",
    "`hclust` es un algoritmo de agrupamiento jerarquico que agrupa los elementos que son mas similares entre si en un arbol llamado dendrograma, creando una jerarquia.\n",
    "\n",
    "Parametros de entrada:\n",
    "- `dist(datos)`: Calcula la distancia entre cada observacion en el conjunto de datos. \n",
    "- `method`: define el metodo de vinculacion, puede ser \"complete\", \"single\", \"average\", \"ward.D\".....\n",
    "\n",
    "Parametros de salida:\n",
    "- `merge`: matriz con los grupos combinados.\n",
    "- `height` la altura a la que se han unido los grupos.\n",
    "- `labels` nombres de las observaciones\n",
    "- `order` el orden en que los elementos aparecen en el dendrograma.\n",
    "\n",
    "---\n",
    "## B: \n",
    "\n",
    "Dendrograma:\n",
    "\n",
    "se muestra como se agrupan las observaciones a medida que se va construyendo el arbol jerarquico. Cada rama representa un grupo de observaciones, se agrupan por la altura de corte en el arbol, osea, que tan similar es cada grupo, cuanto menor la altura mayor sera la similitud entre los elementos del grupo, igualmente el corte esta en 4 grupos.\n",
    "\n",
    "- Por ejemplo, se observa que el SEAL y DOLPHIN estan agrupados a una altura muy baja, esto indica que estos dos animales tienen características muy similares, pero por ejemplo el ELEPHANT y el REINDEER estan mas alejados en el dendrograma, significa son mas distintos en comparacion.\n",
    "\n",
    "Biplot:\n",
    "\n",
    "aqui se muestra como los datos estan distribuidos en dos dimensiones principales. en este caso se representa un animal o un  lacteo y la direccion de las flechas muestra la relacion de cada variable con las componentes principales.\n",
    "\n",
    "- Por ejemplo PROTEIN esta mas cerca del eje X, entonces significa que la cantidad de proteina es relevante en la componente 1.\n",
    "\n",
    "---\n",
    "\n",
    "## C:\n",
    "\n",
    "Se probaron cambiando los metodos de vinculacion que definen como se determinan las formas de agrupar:\n"
   ]
  },
  {
   "cell_type": "code",
   "execution_count": 5,
   "metadata": {
    "vscode": {
     "languageId": "r"
    }
   },
   "outputs": [
    {
     "data": {
      "image/png": "[encoded data removed]",
      "text/plain": [
       "Plot with title \"Cluster Dendrogram\""
      ]
     },
     "metadata": {
      "image/png": {
       "height": 420,
       "width": 420
      }
     },
     "output_type": "display_data"
    }
   ],
   "source": [
    "# Vinculacion Simple\n",
    "# Se considera la distancia minima entre dos observaciones de diferentes grupos\n",
    "res_single <- hclust(dist(datos), method = \"single\")\n",
    "plot(res_single)\n"
   ]
  },
  {
   "cell_type": "code",
   "execution_count": 6,
   "metadata": {
    "vscode": {
     "languageId": "r"
    }
   },
   "outputs": [
    {
     "data": {
      "image/png": "[encoded data removed]",
      "text/plain": [
       "Plot with title \"Cluster Dendrogram\""
      ]
     },
     "metadata": {
      "image/png": {
       "height": 420,
       "width": 420
      }
     },
     "output_type": "display_data"
    }
   ],
   "source": [
    "# Vinculacion Completa\n",
    "# Se considera la distancia maxima entre dos observaciones de diferentes grupos\n",
    "res_complete <- hclust(dist(datos), method = \"complete\")\n",
    "plot(res_complete)\n"
   ]
  },
  {
   "cell_type": "code",
   "execution_count": null,
   "metadata": {
    "vscode": {
     "languageId": "r"
    }
   },
   "outputs": [],
   "source": [
    "# Vinculacion Promedio\n",
    "# Se calcula la distancia media entre los elementos de diferentes grupos\n",
    "res_average <- hclust(dist(datos), method = \"average\")\n",
    "plot(res_average)\n"
   ]
  },
  {
   "cell_type": "code",
   "execution_count": null,
   "metadata": {
    "vscode": {
     "languageId": "r"
    }
   },
   "outputs": [],
   "source": [
    "# Metodo Ward\n",
    "# se minimiza la varianza dentro de los grupos y se maximiza la varianza entre los grupos\n",
    "res_ward <- hclust(dist(datos), method = \"ward.D\")\n",
    "plot(res_ward)\n"
   ]
  },
  {
   "cell_type": "markdown",
   "metadata": {},
   "source": [
    "dependiendo los metodos utilizados se comprimen mas los grupos o menos, el punto de corte tambien varia."
   ]
  },
  {
   "cell_type": "markdown",
   "metadata": {},
   "source": [
    "**A continuación instalamos la biblioteca kohonen para utilizar som, el método de mapas autoorganizados que permite realizar un análisis de agrupamiento**"
   ]
  },
  {
   "cell_type": "code",
   "execution_count": 10,
   "metadata": {
    "vscode": {
     "languageId": "r"
    }
   },
   "outputs": [
    {
     "ename": "ERROR",
     "evalue": "Error in library(kohonen): no hay paquete llamado 'kohonen'\n",
     "output_type": "error",
     "traceback": [
      "Error in library(kohonen): no hay paquete llamado 'kohonen'\nTraceback:\n",
      "1. stop(packageNotFoundError(package, lib.loc, sys.call()))"
     ]
    }
   ],
   "source": [
    "#install.packages(\"kohonen\")\n",
    "library(kohonen)\n",
    "set.seed(7)"
   ]
  },
  {
   "cell_type": "code",
   "execution_count": null,
   "metadata": {
    "vscode": {
     "languageId": "r"
    }
   },
   "outputs": [
    {
     "data": {
      "text/html": [
       "\n",
       "<table width=\"100%\" summary=\"page for supersom {kohonen}\"><tr><td>supersom {kohonen}</td><td style=\"text-align: right;\">R Documentation</td></tr></table>\n",
       "\n",
       "<h2>Self- and super-organising maps</h2>\n",
       "\n",
       "<h3>Description</h3>\n",
       "\n",
       "<p>A supersom is an extension of self-organising maps (SOMs) to multiple\n",
       "data layers, possibly with different numbers and different types of\n",
       "variables (though equal numbers of objects). NAs are allowed. A\n",
       "weighted distance over all layers is calculated to determine the\n",
       "winning units during training.\n",
       "Functions <code>som</code> and <code>xyf</code> are simply wrappers for supersoms\n",
       "with one and two layers, respectively. Function <code>bdk</code> is deprecated.\n",
       "</p>\n",
       "\n",
       "\n",
       "<h3>Usage</h3>\n",
       "\n",
       "<pre>\n",
       "som(X, ...)\n",
       "xyf(X, Y, ...)\n",
       "supersom(data, grid=somgrid(), rlen = 100, alpha = c(0.05, 0.01),\n",
       "         radius = quantile(nhbrdist, 2/3), \n",
       "         whatmap = NULL, user.weights = 1, maxNA.fraction = 0L,\n",
       "         keep.data = TRUE, dist.fcts = NULL,\n",
       "         mode = c(\"online\", \"batch\", \"pbatch\"), cores = -1, init,\n",
       "         normalizeDataLayers = TRUE)\n",
       "</pre>\n",
       "\n",
       "\n",
       "<h3>Arguments</h3>\n",
       "\n",
       "<table summary=\"R argblock\">\n",
       "<tr valign=\"top\"><td><code>X, Y</code></td>\n",
       "<td>\n",
       "<p>numerical data matrices, or factors. No <code>data.frame</code>\n",
       "objects are allowed - convert them to matrices first.</p>\n",
       "</td></tr>\n",
       "<tr valign=\"top\"><td><code>data</code></td>\n",
       "<td>\n",
       "<p>list of data matrices (numerical) of factors. If a vector\n",
       "is entered, it will be converted to a one-column matrix. No\n",
       "<code>data.frame</code> objectss are allowed.</p>\n",
       "</td></tr>\n",
       "<tr valign=\"top\"><td><code>grid</code></td>\n",
       "<td>\n",
       "<p>a grid for the codebook vectors:\n",
       "see <code>somgrid</code>.</p>\n",
       "</td></tr>\n",
       "<tr valign=\"top\"><td><code>rlen</code></td>\n",
       "<td>\n",
       "<p>the number of times the complete data set will be\n",
       "presented to the network.</p>\n",
       "</td></tr>\n",
       "<tr valign=\"top\"><td><code>alpha</code></td>\n",
       "<td>\n",
       "<p>learning rate, a vector of two numbers indicating the\n",
       "amount of change. Default is to decline linearly from 0.05 to 0.01\n",
       "over <code>rlen</code> updates. Not used for the batch algorithm.</p>\n",
       "</td></tr>\n",
       "<tr valign=\"top\"><td><code>radius</code></td>\n",
       "<td>\n",
       "<p>the radius of the neighbourhood, either given as a\n",
       "single number or a vector (start, stop). If it is given as a single\n",
       "number the radius will change linearly from <code>radius</code> to zero; as\n",
       "soon as the neighbourhood gets smaller than one only the winning unit\n",
       "will be updated. Note that the default before version 3.0 was to run\n",
       "from <code>radius</code> to <code>-radius</code>. If nothing is supplied, the\n",
       "default is to start with a value that covers 2/3 of all unit-to-unit\n",
       "distances.</p>\n",
       "</td></tr> \n",
       "<tr valign=\"top\"><td><code>whatmap</code></td>\n",
       "<td>\n",
       "<p>What data layers to use. If unspecified all layers are used.</p>\n",
       "</td></tr>\n",
       "<tr valign=\"top\"><td><code>user.weights</code></td>\n",
       "<td>\n",
       "<p>the weights given to individual layers. This can\n",
       "be a single number (all layers have the same weight, the default), a\n",
       "vector of the same length as the <code>whatmap</code> argument, or a vector\n",
       "of the same length as the <code>data</code> argument. In xyf maps, this\n",
       "argument provides the same functionality as the now-deprecated\n",
       "<code>xweight</code> argument that was used prior to version 3.0.</p>\n",
       "</td></tr>\n",
       "<tr valign=\"top\"><td><code>maxNA.fraction</code></td>\n",
       "<td>\n",
       "<p>the maximal fraction of values that may be NA to\n",
       "prevent the row to be removed.</p>\n",
       "</td></tr>\n",
       "<tr valign=\"top\"><td><code>keep.data</code></td>\n",
       "<td>\n",
       "<p>if TRUE, return original data and mapping\n",
       "information. If FALSE, only return the trained map (in essence the\n",
       "codebook vectors).</p>\n",
       "</td></tr>\n",
       "<tr valign=\"top\"><td><code>dist.fcts</code></td>\n",
       "<td>\n",
       "<p>vector of distance functions to be used for the\n",
       "individual data layers, of the same length as the <code>data</code>\n",
       "argument, or the same length of the <code>whatmap</code> argument. If the\n",
       "length of this vector is one, the  \n",
       "same distance will be used for all layers. Admissable values\n",
       "currently are &quot;sumofsquares&quot;, &quot;euclidean&quot;, &quot;manhattan&quot;, and\n",
       "&quot;tanimoto&quot;. Default is to use &quot;sumofsquares&quot; for continuous data,\n",
       "and &quot;tanimoto&quot; for factors.</p>\n",
       "</td></tr>\n",
       "<tr valign=\"top\"><td><code>mode</code></td>\n",
       "<td>\n",
       "<p>type of learning algorithm.</p>\n",
       "</td></tr>\n",
       "<tr valign=\"top\"><td><code>cores</code></td>\n",
       "<td>\n",
       "<p>number of cores to use in the &quot;pbatch&quot; learning mode. The\n",
       "default, -1, corresponds to using all available cores.</p>\n",
       "</td></tr>\n",
       "<tr valign=\"top\"><td><code>init</code></td>\n",
       "<td>\n",
       "<p>list of matrices, initial values for the\n",
       "codebook vectors. The list should have the same length as the data\n",
       "list, and corresponding numbers of variables (columns). Each list\n",
       "element should have a number of rows corresponding to the number of\n",
       "units in the map.</p>\n",
       "</td></tr>\n",
       "<tr valign=\"top\"><td><code>normalizeDataLayers</code></td>\n",
       "<td>\n",
       "<p>boolean, indicating whether\n",
       "<code>distance.weights</code> should be calculated (see details section).\n",
       "If <code>normalizeDataLayers == FALSE</code> the user weights \n",
       "are applied to the data immediately.</p>\n",
       "</td></tr>\n",
       "<tr valign=\"top\"><td><code>...</code></td>\n",
       "<td>\n",
       "<p>Further arguments for the <code>supersom</code> function\n",
       "presented to the <code>som</code> or <code>xyf</code> wrappers.</p>\n",
       "</td></tr>\n",
       "</table>\n",
       "\n",
       "\n",
       "<h3>Details</h3>\n",
       "\n",
       "<p>In order to avoid some layers to overwhelm others, simply\n",
       "because of the scale of the data points, the <code>supersom</code> function\n",
       "by default applies internal weights to balance this. The <code>user.weights</code>\n",
       "argument is applied on top of that: the result is that when a user\n",
       "specifies equal weights for all layers (the default), all layers\n",
       "contribute equally to the global distance measure. For large data\n",
       "sets (defined as containing more than 500 records), a sample of size\n",
       "500 is used to calculate the mean distances in each data layer. If\n",
       "<code>normalizeDataLayers == FALSE</code> the user weights are applied\n",
       "directly to the data (<code>distance.weights</code> are set to 1).\n",
       "</p>\n",
       "<p>Various definitions of the Tanimoto distance exist in the\n",
       "literature. The implementation here returns (for two binary vectors of\n",
       "length n) the fraction of cases in which the two vectors\n",
       "disagree. This is basically the Hamming distance divided by n - the\n",
       "incorrect naming is retained (for the moment) to guarantee backwards\n",
       "compatibility. If the vectors are not binary, they will be\n",
       "converted to binary strings (with 0.5 as the class boundary). This\n",
       "measure should not be used when variables are outside the range [0-1];\n",
       "a check is done to make sure this is the case.\n",
       "</p>\n",
       "\n",
       "\n",
       "<h3>Value</h3>\n",
       "\n",
       "<p>An object of class &quot;kohonen&quot; with components\n",
       "</p>\n",
       "<table summary=\"R valueblock\">\n",
       "<tr valign=\"top\"><td><code>data</code></td>\n",
       "<td>\n",
       "<p>data matrix, only returned if <code>keep.data == TRUE</code>.</p>\n",
       "</td></tr>\n",
       "<tr valign=\"top\"><td><code>unit.classif</code></td>\n",
       "<td>\n",
       "<p>winning units for all data objects,\n",
       "only returned if <code>keep.data == TRUE</code>.</p>\n",
       "</td></tr>\n",
       "<tr valign=\"top\"><td><code>distances</code></td>\n",
       "<td>\n",
       "<p>distances of objects to their corresponding winning\n",
       "unit, only returned if <code>keep.data == TRUE</code>.</p>\n",
       "</td></tr>\n",
       "<tr valign=\"top\"><td><code>grid</code></td>\n",
       "<td>\n",
       "<p>the grid, an object of class <code>somgrid</code>.</p>\n",
       "</td></tr>\n",
       "<tr valign=\"top\"><td><code>codes</code></td>\n",
       "<td>\n",
       "<p>a list of matrices containing codebook vectors.</p>\n",
       "</td></tr>\n",
       "<tr valign=\"top\"><td><code>changes</code></td>\n",
       "<td>\n",
       "<p>matrix of mean average deviations from code vectors;\n",
       "every map corresponds with one column.</p>\n",
       "</td></tr>\n",
       "<tr valign=\"top\"><td><code>alpha, radius, user.weights, whatmap, maxNA.fraction</code></td>\n",
       "<td>\n",
       "<p>input arguments\n",
       "presented to the function.</p>\n",
       "</td></tr>\n",
       "<tr valign=\"top\"><td><code>distance.weights</code></td>\n",
       "<td>\n",
       "<p>if <code>normalizeDataLayers</code> weights to\n",
       "equalize the influence of the individual data layers, else a vector\n",
       "of ones.</p>\n",
       "</td></tr>\n",
       "<tr valign=\"top\"><td><code>dist.fcts</code></td>\n",
       "<td>\n",
       "<p>distance functions corresponding to all layers of the\n",
       "data, not just the ones indicated by the whatmap argument.</p>\n",
       "</td></tr>\n",
       "</table>\n",
       "\n",
       "\n",
       "<h3>Author(s)</h3>\n",
       "\n",
       "<p>Ron Wehrens and Johannes Kruisselbrink</p>\n",
       "\n",
       "\n",
       "<h3>References</h3>\n",
       "\n",
       "<p>R. Wehrens and L.M.C. Buydens, J. Stat. Softw. 21 (5), 2007;\n",
       "R. Wehrens and J. Kruisselbrink, submitted, 2017.</p>\n",
       "\n",
       "\n",
       "<h3>See Also</h3>\n",
       "\n",
       "<p><code>somgrid</code>, <code>plot.kohonen</code>,\n",
       "<code>predict.kohonen</code>, <code>map.kohonen</code></p>\n",
       "\n",
       "\n",
       "<h3>Examples</h3>\n",
       "\n",
       "<pre>\n",
       "data(wines)\n",
       "\n",
       "## som\n",
       "som.wines &lt;- som(scale(wines), grid = somgrid(5, 5, \"hexagonal\"))\n",
       "summary(som.wines)\n",
       "\n",
       "## xyf\n",
       "xyf.wines &lt;- xyf(scale(wines), vintages, grid = somgrid(5, 5, \"hexagonal\"))\n",
       "summary(xyf.wines)\n",
       "\n",
       "## supersom example\n",
       "data(yeast)\n",
       "yeast.supersom &lt;- supersom(yeast, somgrid(6, 6, \"hexagonal\"),\n",
       "                           whatmap = c(\"alpha\", \"cdc15\", \"cdc28\", \"elu\"),\n",
       "                           maxNA.fraction = .5)\n",
       "\n",
       "plot(yeast.supersom, \"changes\")\n",
       "\n",
       "obj.classes &lt;- as.integer(yeast$class)\n",
       "colors &lt;- c(\"yellow\", \"green\", \"blue\", \"red\", \"orange\")\n",
       "plot(yeast.supersom, type = \"mapping\", col = colors[obj.classes],\n",
       "     pch = obj.classes, main = \"yeast data\")\n",
       "</pre>\n",
       "\n",
       "<hr /><div style=\"text-align: center;\">[Package <em>kohonen</em> version 3.0.10 ]</div>"
      ],
      "text/latex": [
       "\\inputencoding{utf8}\n",
       "\\HeaderA{supersom}{Self- and super-organising maps}{supersom}\n",
       "\\aliasA{bdk}{supersom}{bdk}\n",
       "\\aliasA{som}{supersom}{som}\n",
       "\\aliasA{xyf}{supersom}{xyf}\n",
       "\\keyword{classif}{supersom}\n",
       "%\n",
       "\\begin{Description}\\relax\n",
       "A supersom is an extension of self-organising maps (SOMs) to multiple\n",
       "data layers, possibly with different numbers and different types of\n",
       "variables (though equal numbers of objects). NAs are allowed. A\n",
       "weighted distance over all layers is calculated to determine the\n",
       "winning units during training.\n",
       "Functions \\code{som} and \\code{xyf} are simply wrappers for supersoms\n",
       "with one and two layers, respectively. Function \\code{bdk} is deprecated.\n",
       "\\end{Description}\n",
       "%\n",
       "\\begin{Usage}\n",
       "\\begin{verbatim}\n",
       "som(X, ...)\n",
       "xyf(X, Y, ...)\n",
       "supersom(data, grid=somgrid(), rlen = 100, alpha = c(0.05, 0.01),\n",
       "         radius = quantile(nhbrdist, 2/3), \n",
       "         whatmap = NULL, user.weights = 1, maxNA.fraction = 0L,\n",
       "         keep.data = TRUE, dist.fcts = NULL,\n",
       "         mode = c(\"online\", \"batch\", \"pbatch\"), cores = -1, init,\n",
       "         normalizeDataLayers = TRUE)\n",
       "\\end{verbatim}\n",
       "\\end{Usage}\n",
       "%\n",
       "\\begin{Arguments}\n",
       "\\begin{ldescription}\n",
       "\\item[\\code{X, Y}] numerical data matrices, or factors. No \\code{data.frame}\n",
       "objects are allowed - convert them to matrices first.\n",
       "\\item[\\code{data}] list of data matrices (numerical) of factors. If a vector\n",
       "is entered, it will be converted to a one-column matrix. No\n",
       "\\code{data.frame} objectss are allowed.\n",
       "\\item[\\code{grid}] a grid for the codebook vectors:\n",
       "see \\code{somgrid}.\n",
       "\\item[\\code{rlen}] the number of times the complete data set will be\n",
       "presented to the network.\n",
       "\\item[\\code{alpha}] learning rate, a vector of two numbers indicating the\n",
       "amount of change. Default is to decline linearly from 0.05 to 0.01\n",
       "over \\code{rlen} updates. Not used for the batch algorithm.\n",
       "\\item[\\code{radius}] the radius of the neighbourhood, either given as a\n",
       "single number or a vector (start, stop). If it is given as a single\n",
       "number the radius will change linearly from \\code{radius} to zero; as\n",
       "soon as the neighbourhood gets smaller than one only the winning unit\n",
       "will be updated. Note that the default before version 3.0 was to run\n",
       "from \\code{radius} to \\code{-radius}. If nothing is supplied, the\n",
       "default is to start with a value that covers 2/3 of all unit-to-unit\n",
       "distances.\n",
       "\\item[\\code{whatmap}] What data layers to use. If unspecified all layers are used.\n",
       "\\item[\\code{user.weights}] the weights given to individual layers. This can\n",
       "be a single number (all layers have the same weight, the default), a\n",
       "vector of the same length as the \\code{whatmap} argument, or a vector\n",
       "of the same length as the \\code{data} argument. In xyf maps, this\n",
       "argument provides the same functionality as the now-deprecated\n",
       "\\code{xweight} argument that was used prior to version 3.0.\n",
       "\\item[\\code{maxNA.fraction}] the maximal fraction of values that may be NA to\n",
       "prevent the row to be removed.\n",
       "\\item[\\code{keep.data}] if TRUE, return original data and mapping\n",
       "information. If FALSE, only return the trained map (in essence the\n",
       "codebook vectors).\n",
       "\\item[\\code{dist.fcts}] vector of distance functions to be used for the\n",
       "individual data layers, of the same length as the \\code{data}\n",
       "argument, or the same length of the \\code{whatmap} argument. If the\n",
       "length of this vector is one, the  \n",
       "same distance will be used for all layers. Admissable values\n",
       "currently are \"sumofsquares\", \"euclidean\", \"manhattan\", and\n",
       "\"tanimoto\". Default is to use \"sumofsquares\" for continuous data,\n",
       "and \"tanimoto\" for factors.\n",
       "\\item[\\code{mode}] type of learning algorithm.\n",
       "\\item[\\code{cores}] number of cores to use in the \"pbatch\" learning mode. The\n",
       "default, -1, corresponds to using all available cores.\n",
       "\\item[\\code{init}] list of matrices, initial values for the\n",
       "codebook vectors. The list should have the same length as the data\n",
       "list, and corresponding numbers of variables (columns). Each list\n",
       "element should have a number of rows corresponding to the number of\n",
       "units in the map.\n",
       "\\item[\\code{normalizeDataLayers}] boolean, indicating whether\n",
       "\\code{distance.weights} should be calculated (see details section).\n",
       "If \\code{normalizeDataLayers == FALSE} the user weights \n",
       "are applied to the data immediately.\n",
       "\\item[\\code{...}] Further arguments for the \\code{supersom} function\n",
       "presented to the \\code{som} or \\code{xyf} wrappers.\n",
       "\\end{ldescription}\n",
       "\\end{Arguments}\n",
       "%\n",
       "\\begin{Details}\\relax\n",
       "In order to avoid some layers to overwhelm others, simply\n",
       "because of the scale of the data points, the \\code{supersom} function\n",
       "by default applies internal weights to balance this. The \\code{user.weights}\n",
       "argument is applied on top of that: the result is that when a user\n",
       "specifies equal weights for all layers (the default), all layers\n",
       "contribute equally to the global distance measure. For large data\n",
       "sets (defined as containing more than 500 records), a sample of size\n",
       "500 is used to calculate the mean distances in each data layer. If\n",
       "\\code{normalizeDataLayers == FALSE} the user weights are applied\n",
       "directly to the data (\\code{distance.weights} are set to 1).\n",
       "\n",
       "Various definitions of the Tanimoto distance exist in the\n",
       "literature. The implementation here returns (for two binary vectors of\n",
       "length n) the fraction of cases in which the two vectors\n",
       "disagree. This is basically the Hamming distance divided by n - the\n",
       "incorrect naming is retained (for the moment) to guarantee backwards\n",
       "compatibility. If the vectors are not binary, they will be\n",
       "converted to binary strings (with 0.5 as the class boundary). This\n",
       "measure should not be used when variables are outside the range [0-1];\n",
       "a check is done to make sure this is the case.\n",
       "\\end{Details}\n",
       "%\n",
       "\\begin{Value}\n",
       "An object of class \"kohonen\" with components\n",
       "\\begin{ldescription}\n",
       "\\item[\\code{data}] data matrix, only returned if \\code{keep.data == TRUE}.\n",
       "\\item[\\code{unit.classif}] winning units for all data objects,\n",
       "only returned if \\code{keep.data == TRUE}.\n",
       "\\item[\\code{distances}] distances of objects to their corresponding winning\n",
       "unit, only returned if \\code{keep.data == TRUE}.\n",
       "\\item[\\code{grid}] the grid, an object of class \\code{somgrid}.\n",
       "\\item[\\code{codes}] a list of matrices containing codebook vectors.\n",
       "\\item[\\code{changes}] matrix of mean average deviations from code vectors;\n",
       "every map corresponds with one column.\n",
       "\\item[\\code{alpha, radius, user.weights, whatmap, maxNA.fraction}] input arguments\n",
       "presented to the function.\n",
       "\\item[\\code{distance.weights}] if \\code{normalizeDataLayers} weights to\n",
       "equalize the influence of the individual data layers, else a vector\n",
       "of ones.\n",
       "\\item[\\code{dist.fcts}] distance functions corresponding to all layers of the\n",
       "data, not just the ones indicated by the whatmap argument.\n",
       "\\end{ldescription}\n",
       "\\end{Value}\n",
       "%\n",
       "\\begin{Author}\\relax\n",
       "Ron Wehrens and Johannes Kruisselbrink\n",
       "\\end{Author}\n",
       "%\n",
       "\\begin{References}\\relax\n",
       "R. Wehrens and L.M.C. Buydens, J. Stat. Softw. 21 (5), 2007;\n",
       "R. Wehrens and J. Kruisselbrink, submitted, 2017.\n",
       "\\end{References}\n",
       "%\n",
       "\\begin{SeeAlso}\\relax\n",
       "\\code{somgrid}, \\code{\\LinkA{plot.kohonen}{plot.kohonen}},\n",
       "\\code{\\LinkA{predict.kohonen}{predict.kohonen}}, \\code{\\LinkA{map.kohonen}{map.kohonen}}\n",
       "\\end{SeeAlso}\n",
       "%\n",
       "\\begin{Examples}\n",
       "\\begin{ExampleCode}\n",
       "data(wines)\n",
       "\n",
       "## som\n",
       "som.wines <- som(scale(wines), grid = somgrid(5, 5, \"hexagonal\"))\n",
       "summary(som.wines)\n",
       "\n",
       "## xyf\n",
       "xyf.wines <- xyf(scale(wines), vintages, grid = somgrid(5, 5, \"hexagonal\"))\n",
       "summary(xyf.wines)\n",
       "\n",
       "## supersom example\n",
       "data(yeast)\n",
       "yeast.supersom <- supersom(yeast, somgrid(6, 6, \"hexagonal\"),\n",
       "                           whatmap = c(\"alpha\", \"cdc15\", \"cdc28\", \"elu\"),\n",
       "                           maxNA.fraction = .5)\n",
       "\n",
       "plot(yeast.supersom, \"changes\")\n",
       "\n",
       "obj.classes <- as.integer(yeast$class)\n",
       "colors <- c(\"yellow\", \"green\", \"blue\", \"red\", \"orange\")\n",
       "plot(yeast.supersom, type = \"mapping\", col = colors[obj.classes],\n",
       "     pch = obj.classes, main = \"yeast data\")\n",
       "\\end{ExampleCode}\n",
       "\\end{Examples}"
      ],
      "text/plain": [
       "supersom                package:kohonen                R Documentation\n",
       "\n",
       "_\bS_\be_\bl_\bf- _\ba_\bn_\bd _\bs_\bu_\bp_\be_\br-_\bo_\br_\bg_\ba_\bn_\bi_\bs_\bi_\bn_\bg _\bm_\ba_\bp_\bs\n",
       "\n",
       "_\bD_\be_\bs_\bc_\br_\bi_\bp_\bt_\bi_\bo_\bn:\n",
       "\n",
       "     A supersom is an extension of self-organising maps (SOMs) to\n",
       "     multiple data layers, possibly with different numbers and\n",
       "     different types of variables (though equal numbers of objects).\n",
       "     NAs are allowed. A weighted distance over all layers is calculated\n",
       "     to determine the winning units during training.  Functions 'som'\n",
       "     and 'xyf' are simply wrappers for supersoms with one and two\n",
       "     layers, respectively. Function 'bdk' is deprecated.\n",
       "\n",
       "_\bU_\bs_\ba_\bg_\be:\n",
       "\n",
       "     som(X, ...)\n",
       "     xyf(X, Y, ...)\n",
       "     supersom(data, grid=somgrid(), rlen = 100, alpha = c(0.05, 0.01),\n",
       "              radius = quantile(nhbrdist, 2/3), \n",
       "              whatmap = NULL, user.weights = 1, maxNA.fraction = 0L,\n",
       "              keep.data = TRUE, dist.fcts = NULL,\n",
       "              mode = c(\"online\", \"batch\", \"pbatch\"), cores = -1, init,\n",
       "              normalizeDataLayers = TRUE)\n",
       "     \n",
       "_\bA_\br_\bg_\bu_\bm_\be_\bn_\bt_\bs:\n",
       "\n",
       "    X, Y: numerical data matrices, or factors. No 'data.frame' objects\n",
       "          are allowed - convert them to matrices first.\n",
       "\n",
       "    data: list of data matrices (numerical) of factors. If a vector is\n",
       "          entered, it will be converted to a one-column matrix. No\n",
       "          'data.frame' objectss are allowed.\n",
       "\n",
       "    grid: a grid for the codebook vectors: see 'somgrid'.\n",
       "\n",
       "    rlen: the number of times the complete data set will be presented\n",
       "          to the network.\n",
       "\n",
       "   alpha: learning rate, a vector of two numbers indicating the amount\n",
       "          of change. Default is to decline linearly from 0.05 to 0.01\n",
       "          over 'rlen' updates. Not used for the batch algorithm.\n",
       "\n",
       "  radius: the radius of the neighbourhood, either given as a single\n",
       "          number or a vector (start, stop). If it is given as a single\n",
       "          number the radius will change linearly from 'radius' to zero;\n",
       "          as soon as the neighbourhood gets smaller than one only the\n",
       "          winning unit will be updated. Note that the default before\n",
       "          version 3.0 was to run from 'radius' to '-radius'. If nothing\n",
       "          is supplied, the default is to start with a value that covers\n",
       "          2/3 of all unit-to-unit distances.\n",
       "\n",
       " whatmap: What data layers to use. If unspecified all layers are used.\n",
       "\n",
       "user.weights: the weights given to individual layers. This can be a\n",
       "          single number (all layers have the same weight, the default),\n",
       "          a vector of the same length as the 'whatmap' argument, or a\n",
       "          vector of the same length as the 'data' argument. In xyf\n",
       "          maps, this argument provides the same functionality as the\n",
       "          now-deprecated 'xweight' argument that was used prior to\n",
       "          version 3.0.\n",
       "\n",
       "maxNA.fraction: the maximal fraction of values that may be NA to\n",
       "          prevent the row to be removed.\n",
       "\n",
       "keep.data: if TRUE, return original data and mapping information. If\n",
       "          FALSE, only return the trained map (in essence the codebook\n",
       "          vectors).\n",
       "\n",
       "dist.fcts: vector of distance functions to be used for the individual\n",
       "          data layers, of the same length as the 'data' argument, or\n",
       "          the same length of the 'whatmap' argument. If the length of\n",
       "          this vector is one, the same distance will be used for all\n",
       "          layers. Admissable values currently are \"sumofsquares\",\n",
       "          \"euclidean\", \"manhattan\", and \"tanimoto\". Default is to use\n",
       "          \"sumofsquares\" for continuous data, and \"tanimoto\" for\n",
       "          factors.\n",
       "\n",
       "    mode: type of learning algorithm.\n",
       "\n",
       "   cores: number of cores to use in the \"pbatch\" learning mode. The\n",
       "          default, -1, corresponds to using all available cores.\n",
       "\n",
       "    init: list of matrices, initial values for the codebook vectors.\n",
       "          The list should have the same length as the data list, and\n",
       "          corresponding numbers of variables (columns). Each list\n",
       "          element should have a number of rows corresponding to the\n",
       "          number of units in the map.\n",
       "\n",
       "normalizeDataLayers: boolean, indicating whether 'distance.weights'\n",
       "          should be calculated (see details section).  If\n",
       "          'normalizeDataLayers == FALSE' the user weights are applied\n",
       "          to the data immediately.\n",
       "\n",
       "     ...: Further arguments for the 'supersom' function presented to\n",
       "          the 'som' or 'xyf' wrappers.\n",
       "\n",
       "_\bD_\be_\bt_\ba_\bi_\bl_\bs:\n",
       "\n",
       "     In order to avoid some layers to overwhelm others, simply because\n",
       "     of the scale of the data points, the 'supersom' function by\n",
       "     default applies internal weights to balance this. The\n",
       "     'user.weights' argument is applied on top of that: the result is\n",
       "     that when a user specifies equal weights for all layers (the\n",
       "     default), all layers contribute equally to the global distance\n",
       "     measure. For large data sets (defined as containing more than 500\n",
       "     records), a sample of size 500 is used to calculate the mean\n",
       "     distances in each data layer. If 'normalizeDataLayers == FALSE'\n",
       "     the user weights are applied directly to the data\n",
       "     ('distance.weights' are set to 1).\n",
       "\n",
       "     Various definitions of the Tanimoto distance exist in the\n",
       "     literature. The implementation here returns (for two binary\n",
       "     vectors of length n) the fraction of cases in which the two\n",
       "     vectors disagree. This is basically the Hamming distance divided\n",
       "     by n - the incorrect naming is retained (for the moment) to\n",
       "     guarantee backwards compatibility. If the vectors are not binary,\n",
       "     they will be converted to binary strings (with 0.5 as the class\n",
       "     boundary). This measure should not be used when variables are\n",
       "     outside the range [0-1]; a check is done to make sure this is the\n",
       "     case.\n",
       "\n",
       "_\bV_\ba_\bl_\bu_\be:\n",
       "\n",
       "     An object of class \"kohonen\" with components\n",
       "\n",
       "    data: data matrix, only returned if 'keep.data == TRUE'.\n",
       "\n",
       "unit.classif: winning units for all data objects, only returned if\n",
       "          'keep.data == TRUE'.\n",
       "\n",
       "distances: distances of objects to their corresponding winning unit,\n",
       "          only returned if 'keep.data == TRUE'.\n",
       "\n",
       "    grid: the grid, an object of class 'somgrid'.\n",
       "\n",
       "   codes: a list of matrices containing codebook vectors.\n",
       "\n",
       " changes: matrix of mean average deviations from code vectors; every\n",
       "          map corresponds with one column.\n",
       "\n",
       "alpha, radius, user.weights, whatmap, maxNA.fraction: input arguments\n",
       "          presented to the function.\n",
       "\n",
       "distance.weights: if 'normalizeDataLayers' weights to equalize the\n",
       "          influence of the individual data layers, else a vector of\n",
       "          ones.\n",
       "\n",
       "dist.fcts: distance functions corresponding to all layers of the data,\n",
       "          not just the ones indicated by the whatmap argument.\n",
       "\n",
       "_\bA_\bu_\bt_\bh_\bo_\br(_\bs):\n",
       "\n",
       "     Ron Wehrens and Johannes Kruisselbrink\n",
       "\n",
       "_\bR_\be_\bf_\be_\br_\be_\bn_\bc_\be_\bs:\n",
       "\n",
       "     R. Wehrens and L.M.C. Buydens, J. Stat. Softw. 21 (5), 2007; R.\n",
       "     Wehrens and J. Kruisselbrink, submitted, 2017.\n",
       "\n",
       "_\bS_\be_\be _\bA_\bl_\bs_\bo:\n",
       "\n",
       "     'somgrid', 'plot.kohonen', 'predict.kohonen', 'map.kohonen'\n",
       "\n",
       "_\bE_\bx_\ba_\bm_\bp_\bl_\be_\bs:\n",
       "\n",
       "     data(wines)\n",
       "     \n",
       "     ## som\n",
       "     som.wines <- som(scale(wines), grid = somgrid(5, 5, \"hexagonal\"))\n",
       "     summary(som.wines)\n",
       "     \n",
       "     ## xyf\n",
       "     xyf.wines <- xyf(scale(wines), vintages, grid = somgrid(5, 5, \"hexagonal\"))\n",
       "     summary(xyf.wines)\n",
       "     \n",
       "     ## supersom example\n",
       "     data(yeast)\n",
       "     yeast.supersom <- supersom(yeast, somgrid(6, 6, \"hexagonal\"),\n",
       "                                whatmap = c(\"alpha\", \"cdc15\", \"cdc28\", \"elu\"),\n",
       "                                maxNA.fraction = .5)\n",
       "     \n",
       "     plot(yeast.supersom, \"changes\")\n",
       "     \n",
       "     obj.classes <- as.integer(yeast$class)\n",
       "     colors <- c(\"yellow\", \"green\", \"blue\", \"red\", \"orange\")\n",
       "     plot(yeast.supersom, type = \"mapping\", col = colors[obj.classes],\n",
       "          pch = obj.classes, main = \"yeast data\")\n",
       "     "
      ]
     },
     "metadata": {},
     "output_type": "display_data"
    }
   ],
   "source": [
    "help(som)"
   ]
  },
  {
   "cell_type": "code",
   "execution_count": null,
   "metadata": {
    "vscode": {
     "languageId": "r"
    }
   },
   "outputs": [
    {
     "name": "stdout",
     "output_type": "stream",
     "text": [
      "[[1]]\n",
      "        WATER    PROTEIN        FAT     LACTOSE         ASH\n",
      "V1 -2.5356874  1.0729314  2.6899058 -2.02042124 -0.32965999\n",
      "V2 -0.7799697  1.2599683  0.6351271 -0.96937503  1.62080612\n",
      "V3  0.1782588  0.2255258 -0.2440329  0.02172521  0.05902769\n",
      "V4  0.8071564 -0.9927413 -0.7233456  0.86466273 -0.73162491\n",
      "\n"
     ]
    },
    {
     "data": {
      "image/png": "[encoded data removed]",
      "text/plain": [
       "Plot with title \"Codes plot\""
      ]
     },
     "metadata": {},
     "output_type": "display_data"
    },
    {
     "data": {
      "image/png": "[encoded data removed]",
      "text/plain": [
       "Plot with title \"Codes plot\""
      ]
     },
     "metadata": {},
     "output_type": "display_data"
    },
    {
     "data": {
      "image/png": "[encoded data removed]",
      "text/plain": [
       "Plot with title \"Codes plot\""
      ]
     },
     "metadata": {},
     "output_type": "display_data"
    },
    {
     "data": {
      "image/png": "[encoded data removed]",
      "text/plain": [
       "plot without title"
      ]
     },
     "metadata": {},
     "output_type": "display_data"
    },
    {
     "data": {
      "image/png": "[encoded data removed]",
      "text/plain": [
       "Plot with title \"Mapping Type SOM\""
      ]
     },
     "metadata": {},
     "output_type": "display_data"
    },
    {
     "data": {
      "image/png": "[encoded data removed]",
      "text/plain": [
       "plot without title"
      ]
     },
     "metadata": {},
     "output_type": "display_data"
    }
   ],
   "source": [
    "#create SOM grid\n",
    "sommap <- som(scale(datos), rlen=1000, grid = somgrid(2, 2, \"hexagonal\"))\n",
    "print(sommap$codes)\n",
    "plot(sommap,  codeRendering=\"segments\")\n",
    "plot(sommap,  codeRendering=\"lines\")\n",
    "plot(sommap,  codeRendering=\"stars\")\n",
    "\n",
    "colors <- function(n, alpha = 1) {\n",
    "    rev(heat.colors(n, alpha))\n",
    "}\n",
    "\n",
    "plot(sommap, type = \"counts\", palette.name = colors, heatkey = TRUE)\n",
    "\n",
    "plot(sommap, type = \"mapping\", pchs = 20, main = \"Mapping Type SOM\")\n",
    "\n",
    "plot(sommap, type = \"dist.neighbours\", palette.name = terrain.colors)\n"
   ]
  },
  {
   "cell_type": "markdown",
   "metadata": {},
   "source": [
    "**Ejercicio 2:** \n",
    "\n",
    "a) Explique como funciona el método som, describa parámetros de entrada y salida y los gráficos obtenidos.\n",
    "\n",
    "b) Modifique parámetros de entrada. Interprete y comente los resultados obtenidos. \n",
    "\n",
    "c) Compare estos resultados con los del agrupamiento jerárquico. Discuta sus resultados."
   ]
  },
  {
   "cell_type": "markdown",
   "metadata": {},
   "source": [
    "**Ejercicio 3:**\n",
    "\n",
    "Considere el subconjunto de datos del archivo tiposMusica.csv que ha estudiado en las tareas anteriores. \n",
    "\n",
    "a) Escoja dos de los cuatro métodos de agrupamiento estudiado en esta unidad y realice un análisis de agrupamiento con estos datos. \n",
    "\n",
    "b) Compare sus resultados con la medida de calidad de su preferencia y considerando la etiqueta del tipo de música disponible en la primera columna de datos. Discuta sus resultados."
   ]
  },
  {
   "cell_type": "markdown",
   "metadata": {},
   "source": [
    "a) Utilizaremos K-Means y GMM"
   ]
  },
  {
   "cell_type": "code",
   "execution_count": 29,
   "metadata": {
    "vscode": {
     "languageId": "r"
    }
   },
   "outputs": [
    {
     "name": "stdout",
     "output_type": "stream",
     "text": [
      "[1] \"Tabla cruzada: K-means vs Géneros\"\n",
      "            \n",
      "generos       1  2  3  4\n",
      "  Classical   0 45  0 26\n",
      "  Electronic 26  1 10  2\n",
      "  Rock        6  2 31  0\n"
     ]
    },
    {
     "data": {
      "image/png": "[encoded data removed]",
      "text/plain": [
       "Plot with title \"Clusters con K-Means\""
      ]
     },
     "metadata": {
      "image/png": {
       "height": 420,
       "width": 420
      }
     },
     "output_type": "display_data"
    },
    {
     "name": "stdout",
     "output_type": "stream",
     "text": [
      "[1] \"Tabla cruzada: GMM vs Géneros\"\n",
      "            \n",
      "generos       1  2  3  4\n",
      "  Classical  25  8 36  2\n",
      "  Electronic  0  6  0 33\n",
      "  Rock        0  6  0 33\n",
      "ARI (K-means): 0.6932541 \n",
      "ARI (GMM): 0.4955698 \n",
      "Silhouette promedio (K-means): 0.1579631 \n",
      "Silhouette promedio (GMM): 0.1235796 \n"
     ]
    },
    {
     "data": {
      "image/png": "[encoded data removed]",
      "text/plain": [
       "Plot with title \"Clusters con GMM\""
      ]
     },
     "metadata": {
      "image/png": {
       "height": 420,
       "width": 420
      }
     },
     "output_type": "display_data"
    },
    {
     "data": {
      "image/png": "[encoded data removed]",
      "text/plain": [
       "Plot with title \"GMM\""
      ]
     },
     "metadata": {
      "image/png": {
       "height": 420,
       "width": 420
      }
     },
     "output_type": "display_data"
    },
    {
     "data": {
      "image/png": "[encoded data removed]",
      "text/plain": [
       "plot without title"
      ]
     },
     "metadata": {
      "image/png": {
       "height": 420,
       "width": 420
      }
     },
     "output_type": "display_data"
    },
    {
     "data": {
      "image/png": "[encoded data removed]",
      "text/plain": [
       "plot without title"
      ]
     },
     "metadata": {
      "image/png": {
       "height": 420,
       "width": 420
      }
     },
     "output_type": "display_data"
    }
   ],
   "source": [
    "musica <- read.csv(\"..//data//tiposMusica.csv\", header = TRUE, sep = \";\", dec = \".\")\n",
    "\n",
    "# Filtrar columnas numéricas (características de audio)\n",
    "caracteristicas <- musica[, c(\"popularity\", \"acousticness\", \"danceability\", \"duration_ms\", \n",
    "                              \"energy\", \"instrumentalness\", \"liveness\", \"loudness\", \n",
    "                              \"speechiness\", \"tempo\", \"valence\")]\n",
    "\n",
    "# Guardar etiquetas de género\n",
    "generos <- musica$genre\n",
    "\n",
    "# Normalizar los datos\n",
    "datos_esc <- scale(caracteristicas)\n",
    "\n",
    "# -------------------------------\n",
    "# K-Means\n",
    "# -------------------------------\n",
    "k <- 4\n",
    "km <- kmeans(datos_esc, centers = k, nstart = 10)\n",
    "\n",
    "# PCA\n",
    "pca <- princomp(datos_esc, cor = TRUE)\n",
    "\n",
    "# Gráfico PCA con K-Means\n",
    "plot(pca$scores[, 1:2], col = km$cluster, pch = 19,\n",
    "     xlab = \"PC1\", ylab = \"PC2\", main = \"Clusters con K-Means\")\n",
    "centroides <- predict(pca, km$centers)\n",
    "points(centroides[, 1:2], col = 1:k, pch = 8, cex = 2)\n",
    "\n",
    "# Tabla K-Means vs Géneros\n",
    "tabla_kmeans <- table(generos, km$cluster)\n",
    "print(\"Tabla cruzada: K-means vs Géneros\")\n",
    "print(tabla_kmeans)\n",
    "\n",
    "\n",
    "# GMM\n",
    "\n",
    "library(mclust)\n",
    "set.seed(321)\n",
    "gmm <- Mclust(datos_esc, G = k)\n",
    "\n",
    "# Gráfico PCA con GMM\n",
    "plot(pca$scores[, 1:2], col = gmm$classification, pch = 19,\n",
    "     xlab = \"PC1\", ylab = \"PC2\", main = \"Clusters con GMM\")\n",
    "\n",
    "# Tabla GMM vs Géneros\n",
    "tabla_gmm <- table(generos, gmm$classification)\n",
    "print(\"Tabla cruzada: GMM vs Géneros\")\n",
    "print(tabla_gmm)\n",
    "\n",
    "# Evaluación de Calidad\n",
    "\n",
    "library(fossil)\n",
    "ari_km <- adj.rand.index(as.numeric(factor(generos)), km$cluster)\n",
    "ari_gmm <- adj.rand.index(as.numeric(factor(generos)), gmm$classification)\n",
    "\n",
    "cat(\"ARI (K-means):\", ari_km, \"\\n\")\n",
    "cat(\"ARI (GMM):\", ari_gmm, \"\\n\")\n",
    "\n",
    "library(cluster)\n",
    "distancias <- dist(datos_esc)\n",
    "\n",
    "sil_kmeans <- silhouette(km$cluster, distancias)\n",
    "sil_prom_km <- mean(sil_kmeans[, 3])\n",
    "\n",
    "sil_gmm <- silhouette(gmm$classification, distancias)\n",
    "sil_prom_gmm <- mean(sil_gmm[, 3])\n",
    "\n",
    "cat(\"Silhouette promedio (K-means):\", sil_prom_km, \"\\n\")\n",
    "cat(\"Silhouette promedio (GMM):\", sil_prom_gmm, \"\\n\")\n",
    "\n",
    "\n",
    "# Visualización Comparativa Final\n",
    "par(mfrow = c(1, 2))\n",
    "plot(pca$scores[, 1:2], col = km$cluster, pch = 19,\n",
    "     xlab = \"PC1\", ylab = \"PC2\", main = \"K-Means\")\n",
    "plot(pca$scores[, 1:2], col = gmm$classification, pch = 19,\n",
    "     xlab = \"PC1\", ylab = \"PC2\", main = \"GMM\")\n",
    "par(mfrow = c(1, 1))\n",
    "\n",
    "\n",
    "# Biplots con Clusters (PCA)\n",
    "\n",
    "\n",
    "library(factoextra)\n",
    "\n",
    "# Biplot con K-Means\n",
    "fviz_pca_biplot(pca,\n",
    "                geom.ind = \"point\",\n",
    "                col.ind = as.factor(km$cluster),\n",
    "                palette = \"jco\",\n",
    "                addEllipses = TRUE,\n",
    "                label = \"var\", repel = TRUE) +\n",
    "  ggtitle(\"Biplot PCA con Clusters K-Means\")\n",
    "\n",
    "# Biplot con GMM\n",
    "fviz_pca_biplot(pca,\n",
    "                geom.ind = \"point\",\n",
    "                col.ind = as.factor(gmm$classification),\n",
    "                palette = \"Set2\",\n",
    "                addEllipses = TRUE,\n",
    "                label = \"var\", repel = TRUE) +\n",
    "  ggtitle(\"Biplot PCA con Clusters GMM\")\n",
    "\n"
   ]
  },
  {
   "cell_type": "markdown",
   "metadata": {},
   "source": [
    "b) Comparación y discusión de resultados\n",
    "\n",
    "Para evaluar la calidad de los agrupamientos obtenidos con K-Means y GMM, \n",
    "utilicé dos métricas: el Índice de Rand Ajustado (ARI) y el indice de Silhouette promedio.\n",
    "\n",
    "\n",
    "El ARI compara los clusters generados con las etiquetas reales de los géneros musicales. En este caso, el ARI para K-Means fue de 0.693,\n",
    "mientras que para GMM fue de 0.496. Esto indica que K-Means tuvo una mayor concordancia con las categorías reales, agrupando de forma \n",
    "más coherente según el género.\n",
    "\n",
    "Por otro lado, el índice de Silhouette, que evalúa qué tan bien se separan y cohesionan los clusters, \n",
    "fue de 0.158 para K-Means y 0.124 para GMM. Nuevamente, K-Means mostró un mejor desempeño, ya que sus clusters presentan \n",
    "una mayor distancia con respecto a otros grupos y mayor cohesión interna.\n",
    "\n",
    "Analizando los gráficos de biplots PCA, podemos observar que en el biplot de K-Means los clusters están mejor definidos y más separados entre sí. El cluster 1 (azul) se asocia principalmente con características como energy, loudness y danceability, mientras que el cluster 2 (amarillo) se relaciona más con instrumentalness y acousticness. Esta separación visual confirma los mejores valores de las métricas para K-Means.\n",
    "\n",
    "En el biplot de GMM, se aprecia un mayor solapamiento entre clusters, especialmente entre los clusters 1 y 3, lo que explica su menor valor de Silhouette. Además, el cluster 2 (naranja) abarca un área mucho más grande y menos definida.\n",
    "\n",
    "En resumen, ambos métodos lograron identificar ciertos patrones en los datos, pero K-Means fue más eficaz tanto en su alineación con las etiquetas reales como en la calidad estructural de sus clusters. Por lo tanto, K-Means es el método más adecuado para este conjunto de datos en este análisis."
   ]
  }
 ],
 "metadata": {
  "celltoolbar": "Raw Cell Format",
  "kernelspec": {
   "display_name": "R",
   "language": "R",
   "name": "ir"
  },
  "language_info": {
   "codemirror_mode": "r",
   "file_extension": ".r",
   "mimetype": "text/x-r-source",
   "name": "R",
   "pygments_lexer": "r",
   "version": "4.4.3"
  }
 },
 "nbformat": 4,
 "nbformat_minor": 4
}
